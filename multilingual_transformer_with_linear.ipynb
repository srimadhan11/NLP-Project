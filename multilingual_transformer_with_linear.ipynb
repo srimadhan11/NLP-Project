{
 "cells": [
  {
   "cell_type": "markdown",
   "id": "popular-review",
   "metadata": {
    "id": "r1QOgi4Xvz5N",
    "papermill": {
     "duration": 0.023144,
     "end_time": "2021-04-27T09:26:43.584179",
     "exception": false,
     "start_time": "2021-04-27T09:26:43.561035",
     "status": "completed"
    },
    "tags": []
   },
   "source": [
    "## Import Libraries and Packages\n",
    "\n"
   ]
  },
  {
   "cell_type": "code",
   "execution_count": 1,
   "id": "isolated-intelligence",
   "metadata": {
    "execution": {
     "iopub.execute_input": "2021-04-27T09:26:43.638672Z",
     "iopub.status.busy": "2021-04-27T09:26:43.637997Z",
     "iopub.status.idle": "2021-04-27T09:26:45.741691Z",
     "shell.execute_reply": "2021-04-27T09:26:45.741138Z"
    },
    "id": "e0dvUQipQYCc",
    "papermill": {
     "duration": 2.135928,
     "end_time": "2021-04-27T09:26:45.741834",
     "exception": false,
     "start_time": "2021-04-27T09:26:43.605906",
     "status": "completed"
    },
    "tags": []
   },
   "outputs": [],
   "source": [
    "import math\n",
    "import numpy as np\n",
    "import torch\n",
    "import torch.nn as nn\n",
    "import torch.nn.functional as F\n",
    "import torch.optim as optim\n",
    "import pandas as pd\n",
    "import pickle\n",
    "\n",
    "# from torchtext.legacy.data import Field, BucketIterator,TabularDataset\n",
    "import random\n",
    "import re\n",
    "from torchtext import data\n",
    "\n",
    "from sklearn.preprocessing import OneHotEncoder\n",
    "from sklearn.model_selection import train_test_split"
   ]
  },
  {
   "cell_type": "code",
   "execution_count": 2,
   "id": "active-dover",
   "metadata": {
    "execution": {
     "iopub.execute_input": "2021-04-27T09:26:45.789240Z",
     "iopub.status.busy": "2021-04-27T09:26:45.788601Z",
     "iopub.status.idle": "2021-04-27T09:26:46.272294Z",
     "shell.execute_reply": "2021-04-27T09:26:46.271751Z"
    },
    "id": "5y5sQj0Wnp63",
    "outputId": "c9c7c1b3-7806-4978-d02e-d29ee710a2ce",
    "papermill": {
     "duration": 0.508784,
     "end_time": "2021-04-27T09:26:46.272426",
     "exception": false,
     "start_time": "2021-04-27T09:26:45.763642",
     "status": "completed"
    },
    "tags": []
   },
   "outputs": [],
   "source": [
    "#!pip install -U nltk\n",
    "import nltk\n",
    "import sys\n",
    "#nltk.download('wordnet')\n",
    "\n",
    "from nltk.tokenize import sent_tokenize\n",
    "import nltk.data\n",
    "#nltk.download('punkt')\n",
    "from nltk.tokenize import word_tokenize"
   ]
  },
  {
   "cell_type": "code",
   "execution_count": 3,
   "id": "informal-documentation",
   "metadata": {
    "execution": {
     "iopub.execute_input": "2021-04-27T09:26:46.764165Z",
     "iopub.status.busy": "2021-04-27T09:26:46.763239Z",
     "iopub.status.idle": "2021-04-27T09:26:46.780672Z",
     "shell.execute_reply": "2021-04-27T09:26:46.780019Z"
    },
    "id": "6eJRmPVwRD74",
    "outputId": "da3fdf7e-aed2-4f03-b32f-ff02b69442d6",
    "papermill": {
     "duration": 0.486533,
     "end_time": "2021-04-27T09:26:46.780843",
     "exception": false,
     "start_time": "2021-04-27T09:26:46.294310",
     "status": "completed"
    },
    "tags": []
   },
   "outputs": [
    {
     "data": {
      "text/plain": [
       "device(type='cuda')"
      ]
     },
     "execution_count": 3,
     "metadata": {},
     "output_type": "execute_result"
    }
   ],
   "source": [
    "device = torch.device('cuda' if torch.cuda.is_available() else 'cpu')\n",
    "device"
   ]
  },
  {
   "cell_type": "markdown",
   "id": "anticipated-implementation",
   "metadata": {
    "id": "3XbGh0qPv8tE",
    "papermill": {
     "duration": 0.035955,
     "end_time": "2021-04-27T09:26:46.852997",
     "exception": false,
     "start_time": "2021-04-27T09:26:46.817042",
     "status": "completed"
    },
    "tags": []
   },
   "source": [
    "## Load and Preprocess dataset"
   ]
  },
  {
   "cell_type": "markdown",
   "id": "fourth-native",
   "metadata": {
    "id": "qxxz9i-n0iDL",
    "papermill": {
     "duration": 0.036201,
     "end_time": "2021-04-27T09:26:46.925949",
     "exception": false,
     "start_time": "2021-04-27T09:26:46.889748",
     "status": "completed"
    },
    "tags": []
   },
   "source": [
    "### Load dataset"
   ]
  },
  {
   "cell_type": "code",
   "execution_count": 4,
   "id": "dated-texture",
   "metadata": {
    "execution": {
     "iopub.execute_input": "2021-04-27T09:26:47.005658Z",
     "iopub.status.busy": "2021-04-27T09:26:47.003666Z",
     "iopub.status.idle": "2021-04-27T09:26:47.006403Z",
     "shell.execute_reply": "2021-04-27T09:26:47.007032Z"
    },
    "id": "vjoxrNGFJtRW",
    "papermill": {
     "duration": 0.044558,
     "end_time": "2021-04-27T09:26:47.007223",
     "exception": false,
     "start_time": "2021-04-27T09:26:46.962665",
     "status": "completed"
    },
    "tags": []
   },
   "outputs": [],
   "source": [
    "# from google.colab import drive\n",
    "# drive.mount('/content/drive')"
   ]
  },
  {
   "cell_type": "code",
   "execution_count": 5,
   "id": "headed-internship",
   "metadata": {
    "execution": {
     "iopub.execute_input": "2021-04-27T09:26:47.098942Z",
     "iopub.status.busy": "2021-04-27T09:26:47.098194Z",
     "iopub.status.idle": "2021-04-27T09:26:49.413184Z",
     "shell.execute_reply": "2021-04-27T09:26:49.412703Z"
    },
    "id": "WqJbRKhGwBHI",
    "papermill": {
     "duration": 2.369,
     "end_time": "2021-04-27T09:26:49.413319",
     "exception": false,
     "start_time": "2021-04-27T09:26:47.044319",
     "status": "completed"
    },
    "tags": []
   },
   "outputs": [],
   "source": [
    "dataset = pd.read_csv(\"../input/proj-dataset/proj_dataset.csv\" ,index_col=0).reset_index(drop=True)"
   ]
  },
  {
   "cell_type": "code",
   "execution_count": null,
   "id": "chemical-vacuum",
   "metadata": {
    "papermill": {
     "duration": 0.022753,
     "end_time": "2021-04-27T09:26:49.458913",
     "exception": false,
     "start_time": "2021-04-27T09:26:49.436160",
     "status": "completed"
    },
    "tags": []
   },
   "outputs": [],
   "source": []
  },
  {
   "cell_type": "code",
   "execution_count": 6,
   "id": "unnecessary-thermal",
   "metadata": {
    "execution": {
     "iopub.execute_input": "2021-04-27T09:26:49.581743Z",
     "iopub.status.busy": "2021-04-27T09:26:49.580944Z",
     "iopub.status.idle": "2021-04-27T09:26:49.609751Z",
     "shell.execute_reply": "2021-04-27T09:26:49.609356Z"
    },
    "papermill": {
     "duration": 0.128826,
     "end_time": "2021-04-27T09:26:49.609866",
     "exception": false,
     "start_time": "2021-04-27T09:26:49.481040",
     "status": "completed"
    },
    "tags": []
   },
   "outputs": [],
   "source": [
    "dataset = dataset[(dataset[\"labels\"]==\"FRENCH\") | (dataset[\"labels\"]==\"SPANISH\")]"
   ]
  },
  {
   "cell_type": "code",
   "execution_count": 7,
   "id": "adapted-training",
   "metadata": {
    "execution": {
     "iopub.execute_input": "2021-04-27T09:26:49.663650Z",
     "iopub.status.busy": "2021-04-27T09:26:49.663105Z",
     "iopub.status.idle": "2021-04-27T09:26:49.671923Z",
     "shell.execute_reply": "2021-04-27T09:26:49.671472Z"
    },
    "papermill": {
     "duration": 0.039824,
     "end_time": "2021-04-27T09:26:49.672048",
     "exception": false,
     "start_time": "2021-04-27T09:26:49.632224",
     "status": "completed"
    },
    "tags": []
   },
   "outputs": [
    {
     "data": {
      "text/html": [
       "<div>\n",
       "<style scoped>\n",
       "    .dataframe tbody tr th:only-of-type {\n",
       "        vertical-align: middle;\n",
       "    }\n",
       "\n",
       "    .dataframe tbody tr th {\n",
       "        vertical-align: top;\n",
       "    }\n",
       "\n",
       "    .dataframe thead th {\n",
       "        text-align: right;\n",
       "    }\n",
       "</style>\n",
       "<table border=\"1\" class=\"dataframe\">\n",
       "  <thead>\n",
       "    <tr style=\"text-align: right;\">\n",
       "      <th></th>\n",
       "      <th>source</th>\n",
       "      <th>target</th>\n",
       "      <th>labels</th>\n",
       "    </tr>\n",
       "  </thead>\n",
       "  <tbody>\n",
       "    <tr>\n",
       "      <th>0</th>\n",
       "      <td>Whilst those of a left-wing persuasion define ...</td>\n",
       "      <td>Nous avons donc besoin de ces mesures et le ca...</td>\n",
       "      <td>FRENCH</td>\n",
       "    </tr>\n",
       "    <tr>\n",
       "      <th>1</th>\n",
       "      <td>In the interinstitutional agreement on the fin...</td>\n",
       "      <td>. (EN) Actualmente, la Comisión está aplicando...</td>\n",
       "      <td>SPANISH</td>\n",
       "    </tr>\n",
       "    <tr>\n",
       "      <th>2</th>\n",
       "      <td>A great deal of funding has been freed up for ...</td>\n",
       "      <td>Pero aunque se reservan el poder de decidir no...</td>\n",
       "      <td>SPANISH</td>\n",
       "    </tr>\n",
       "    <tr>\n",
       "      <th>3</th>\n",
       "      <td>We must all do this together, at all levels of...</td>\n",
       "      <td>Yo también tengo en mi poder una versión más l...</td>\n",
       "      <td>SPANISH</td>\n",
       "    </tr>\n",
       "    <tr>\n",
       "      <th>4</th>\n",
       "      <td>The European Union must contribute towards the...</td>\n",
       "      <td>Pour la présidence française, cette propositio...</td>\n",
       "      <td>FRENCH</td>\n",
       "    </tr>\n",
       "    <tr>\n",
       "      <th>...</th>\n",
       "      <td>...</td>\n",
       "      <td>...</td>\n",
       "      <td>...</td>\n",
       "    </tr>\n",
       "    <tr>\n",
       "      <th>299995</th>\n",
       "      <td>We have high taxation, which I used to be in f...</td>\n",
       "      <td>Cette obligation est déjà stipulée dans le tex...</td>\n",
       "      <td>FRENCH</td>\n",
       "    </tr>\n",
       "    <tr>\n",
       "      <th>299996</th>\n",
       "      <td>Other directives will follow and I believe tha...</td>\n",
       "      <td>Si nous exécutons ce programme en faisant preu...</td>\n",
       "      <td>FRENCH</td>\n",
       "    </tr>\n",
       "    <tr>\n",
       "      <th>299997</th>\n",
       "      <td>Nothing short of a cessation of the conflict w...</td>\n",
       "      <td>Debemos elaborar un plan de recursos humanos a...</td>\n",
       "      <td>SPANISH</td>\n",
       "    </tr>\n",
       "    <tr>\n",
       "      <th>299998</th>\n",
       "      <td>I understand that Members who are not taking p...</td>\n",
       "      <td>Pour les hommes politiques, la pratique qui co...</td>\n",
       "      <td>FRENCH</td>\n",
       "    </tr>\n",
       "    <tr>\n",
       "      <th>299999</th>\n",
       "      <td>You have requested a debate on this subject in...</td>\n",
       "      <td>Sus Señorías han solicitado un debate sobre el...</td>\n",
       "      <td>SPANISH</td>\n",
       "    </tr>\n",
       "  </tbody>\n",
       "</table>\n",
       "<p>200000 rows × 3 columns</p>\n",
       "</div>"
      ],
      "text/plain": [
       "                                                   source  \\\n",
       "0       Whilst those of a left-wing persuasion define ...   \n",
       "1       In the interinstitutional agreement on the fin...   \n",
       "2       A great deal of funding has been freed up for ...   \n",
       "3       We must all do this together, at all levels of...   \n",
       "4       The European Union must contribute towards the...   \n",
       "...                                                   ...   \n",
       "299995  We have high taxation, which I used to be in f...   \n",
       "299996  Other directives will follow and I believe tha...   \n",
       "299997  Nothing short of a cessation of the conflict w...   \n",
       "299998  I understand that Members who are not taking p...   \n",
       "299999  You have requested a debate on this subject in...   \n",
       "\n",
       "                                                   target   labels  \n",
       "0       Nous avons donc besoin de ces mesures et le ca...   FRENCH  \n",
       "1       . (EN) Actualmente, la Comisión está aplicando...  SPANISH  \n",
       "2       Pero aunque se reservan el poder de decidir no...  SPANISH  \n",
       "3       Yo también tengo en mi poder una versión más l...  SPANISH  \n",
       "4       Pour la présidence française, cette propositio...   FRENCH  \n",
       "...                                                   ...      ...  \n",
       "299995  Cette obligation est déjà stipulée dans le tex...   FRENCH  \n",
       "299996  Si nous exécutons ce programme en faisant preu...   FRENCH  \n",
       "299997  Debemos elaborar un plan de recursos humanos a...  SPANISH  \n",
       "299998  Pour les hommes politiques, la pratique qui co...   FRENCH  \n",
       "299999  Sus Señorías han solicitado un debate sobre el...  SPANISH  \n",
       "\n",
       "[200000 rows x 3 columns]"
      ]
     },
     "execution_count": 7,
     "metadata": {},
     "output_type": "execute_result"
    }
   ],
   "source": [
    "dataset"
   ]
  },
  {
   "cell_type": "markdown",
   "id": "checked-violin",
   "metadata": {
    "id": "_w5QyUyO4g0c",
    "papermill": {
     "duration": 0.022698,
     "end_time": "2021-04-27T09:26:49.717640",
     "exception": false,
     "start_time": "2021-04-27T09:26:49.694942",
     "status": "completed"
    },
    "tags": []
   },
   "source": [
    "#### Split into train and dev set"
   ]
  },
  {
   "cell_type": "code",
   "execution_count": 8,
   "id": "physical-restriction",
   "metadata": {
    "execution": {
     "iopub.execute_input": "2021-04-27T09:26:49.768817Z",
     "iopub.status.busy": "2021-04-27T09:26:49.768304Z",
     "iopub.status.idle": "2021-04-27T09:26:52.642783Z",
     "shell.execute_reply": "2021-04-27T09:26:52.641653Z"
    },
    "id": "TXBQAuzl4mZH",
    "papermill": {
     "duration": 2.901631,
     "end_time": "2021-04-27T09:26:52.642916",
     "exception": false,
     "start_time": "2021-04-27T09:26:49.741285",
     "status": "completed"
    },
    "tags": []
   },
   "outputs": [],
   "source": [
    "train_data, dev_data = train_test_split(dataset, test_size=0.2, shuffle=False)\n",
    "\n",
    "dev_data.to_csv(\"dev_set.csv\", index=None)\n",
    "train_data.to_csv(\"train_set.csv\",index=None)  "
   ]
  },
  {
   "cell_type": "code",
   "execution_count": 9,
   "id": "soviet-harvey",
   "metadata": {
    "execution": {
     "iopub.execute_input": "2021-04-27T09:26:52.697051Z",
     "iopub.status.busy": "2021-04-27T09:26:52.695507Z",
     "iopub.status.idle": "2021-04-27T09:26:52.697708Z",
     "shell.execute_reply": "2021-04-27T09:26:52.698124Z"
    },
    "id": "hDzJ9N0n5mnU",
    "papermill": {
     "duration": 0.030519,
     "end_time": "2021-04-27T09:26:52.698254",
     "exception": false,
     "start_time": "2021-04-27T09:26:52.667735",
     "status": "completed"
    },
    "tags": []
   },
   "outputs": [],
   "source": [
    "# train_data = pd.read_csv('../input/notebook0bb169eae2/train_set.csv')\n",
    "# dev_data =  pd.read_csv('../input/notebook0bb169eae2/dev_set.csv')"
   ]
  },
  {
   "cell_type": "markdown",
   "id": "biblical-blame",
   "metadata": {
    "id": "oB4p4KAY0ks1",
    "papermill": {
     "duration": 0.0397,
     "end_time": "2021-04-27T09:26:52.772098",
     "exception": false,
     "start_time": "2021-04-27T09:26:52.732398",
     "status": "completed"
    },
    "tags": []
   },
   "source": [
    "### Preprocess data"
   ]
  },
  {
   "cell_type": "code",
   "execution_count": 10,
   "id": "environmental-parallel",
   "metadata": {
    "execution": {
     "iopub.execute_input": "2021-04-27T09:26:52.860928Z",
     "iopub.status.busy": "2021-04-27T09:26:52.859396Z",
     "iopub.status.idle": "2021-04-27T09:26:52.861650Z",
     "shell.execute_reply": "2021-04-27T09:26:52.862136Z"
    },
    "id": "iJ5d61IK0fgA",
    "papermill": {
     "duration": 0.05176,
     "end_time": "2021-04-27T09:26:52.862322",
     "exception": false,
     "start_time": "2021-04-27T09:26:52.810562",
     "status": "completed"
    },
    "tags": []
   },
   "outputs": [],
   "source": [
    "en_short_forms_dict ={\"'ll\":\" will\",\n",
    "                      \"'re\":\" are\",\n",
    "                      \"i'm\":\"i am\",\n",
    "                      \"'ve\":\" have\",\n",
    "                      \"\\'ve\" :\" have\",\n",
    "                      \"\\'s\":\"'s\",\n",
    "                      \"\\'ll\":\" will\",\n",
    "                      \"\\'re\":\" are\",\n",
    "                      \"n\\'t\":\"n't\" ,\n",
    "                      \" y'all\":\" you all\",\n",
    "                       \" i\\'m\":\" i am\",\n",
    "                      \"'em\":\"them\",\n",
    "                      \"can't\":\"can not\",\n",
    "                      \"won't\":\"will not\",\n",
    "                      \"cannot\":\"can not\",\n",
    "                       \"isn't\" :\"is not\",\n",
    "                       \"aren't\":\"are not\",\n",
    "                      \"wouldn't\":\"would not\",\n",
    "                      \"shouldn't\":\"should not\",\n",
    "                      \"couldn't\":\"could not\",\n",
    "                      \"wasn't\":\"was not\",\n",
    "                      \"weren't\":\"were not\",\n",
    "                      \"hasn't\":\"has not\",\n",
    "                      \"hadn't\":\"had not\",\n",
    "                      \"haven't\":\"have not\",\n",
    "                      \"'ii\":\" will\",\n",
    "                      \"fuckin'\":\"funcking\"   \n",
    "                     }\n",
    "\n",
    "\n",
    "\n",
    "def tgt_tokenizer(label, sentence):\n",
    "  language = \"\"\n",
    "  if label in ['HUMOROUS', 'NON-HUMOROUS']:\n",
    "     language = 'english'\n",
    "  elif label =='FRENCH':\n",
    "     language = 'french'\n",
    "  elif label == 'SPANISH':\n",
    "     language = 'spanish'\n",
    "  regex = re.compile(r'[@_!♫♪#$%^&*(.,)<>?/\\|}{~:;-]')\n",
    "  sentence = regex.sub('',sentence)                  \n",
    "  sentence = sentence.lower()   \n",
    "  for key in en_short_forms_dict:\n",
    "    sentence= sentence.replace(key, en_short_forms_dict[key])           #replaces short forms with full forms \n",
    "  token_list = word_tokenize(sentence,language=language)                                  #tokenization\n",
    "  return token_list "
   ]
  },
  {
   "cell_type": "code",
   "execution_count": 11,
   "id": "metallic-works",
   "metadata": {
    "execution": {
     "iopub.execute_input": "2021-04-27T09:26:52.945718Z",
     "iopub.status.busy": "2021-04-27T09:26:52.944838Z",
     "iopub.status.idle": "2021-04-27T09:26:52.950832Z",
     "shell.execute_reply": "2021-04-27T09:26:52.951540Z"
    },
    "id": "q9n4nwkcCz5d",
    "papermill": {
     "duration": 0.05159,
     "end_time": "2021-04-27T09:26:52.951724",
     "exception": false,
     "start_time": "2021-04-27T09:26:52.900134",
     "status": "completed"
    },
    "tags": []
   },
   "outputs": [],
   "source": [
    "class Vocab:\n",
    "   def __init__(self):\n",
    "     self.word2index = {\"<unk>\":0 , \"<sos>\":1, \"<eos>\":2, \"<pad>\":3}\n",
    "     self.index2word = {0:\"<unk>\" , 1:\"<sos>\", 2:\"<eos>\", 3:\"<pad>\"}\n",
    "     self.vocab_size = len(self.word2index)\n",
    "     self.word_count = {\"<unk>\":1 , \"<sos>\":1, \"<eos>\":1, \"<pad>\":1}\n",
    "\n",
    "   def add_to_vocab(self,token_list):\n",
    "     for token in token_list:\n",
    "        if token not in self.word2index:        #add to vocab only if its not already present \n",
    "           ind = len(self.word2index)\n",
    "           self.word2index[token] = ind\n",
    "           self.index2word[ind] = token\n",
    "           self.vocab_size += 1\n",
    "           self.word_count[token] = 1\n",
    "        else:\n",
    "           self.word_count[token] += 1  "
   ]
  },
  {
   "cell_type": "code",
   "execution_count": 12,
   "id": "computational-fisher",
   "metadata": {
    "execution": {
     "iopub.execute_input": "2021-04-27T09:26:53.050794Z",
     "iopub.status.busy": "2021-04-27T09:26:53.050033Z",
     "iopub.status.idle": "2021-04-27T09:26:53.057508Z",
     "shell.execute_reply": "2021-04-27T09:26:53.058439Z"
    },
    "id": "U9yTuwDiODjB",
    "outputId": "4d6406ae-d844-4376-a7f6-0b8ef7e6ee81",
    "papermill": {
     "duration": 0.059296,
     "end_time": "2021-04-27T09:26:53.058627",
     "exception": false,
     "start_time": "2021-04-27T09:26:52.999331",
     "status": "completed"
    },
    "tags": []
   },
   "outputs": [
    {
     "data": {
      "text/html": [
       "<div>\n",
       "<style scoped>\n",
       "    .dataframe tbody tr th:only-of-type {\n",
       "        vertical-align: middle;\n",
       "    }\n",
       "\n",
       "    .dataframe tbody tr th {\n",
       "        vertical-align: top;\n",
       "    }\n",
       "\n",
       "    .dataframe thead th {\n",
       "        text-align: right;\n",
       "    }\n",
       "</style>\n",
       "<table border=\"1\" class=\"dataframe\">\n",
       "  <thead>\n",
       "    <tr style=\"text-align: right;\">\n",
       "      <th></th>\n",
       "      <th>source</th>\n",
       "      <th>target</th>\n",
       "      <th>labels</th>\n",
       "    </tr>\n",
       "  </thead>\n",
       "  <tbody>\n",
       "    <tr>\n",
       "      <th>0</th>\n",
       "      <td>Whilst those of a left-wing persuasion define ...</td>\n",
       "      <td>Nous avons donc besoin de ces mesures et le ca...</td>\n",
       "      <td>FRENCH</td>\n",
       "    </tr>\n",
       "    <tr>\n",
       "      <th>1</th>\n",
       "      <td>In the interinstitutional agreement on the fin...</td>\n",
       "      <td>. (EN) Actualmente, la Comisión está aplicando...</td>\n",
       "      <td>SPANISH</td>\n",
       "    </tr>\n",
       "    <tr>\n",
       "      <th>2</th>\n",
       "      <td>A great deal of funding has been freed up for ...</td>\n",
       "      <td>Pero aunque se reservan el poder de decidir no...</td>\n",
       "      <td>SPANISH</td>\n",
       "    </tr>\n",
       "    <tr>\n",
       "      <th>3</th>\n",
       "      <td>We must all do this together, at all levels of...</td>\n",
       "      <td>Yo también tengo en mi poder una versión más l...</td>\n",
       "      <td>SPANISH</td>\n",
       "    </tr>\n",
       "    <tr>\n",
       "      <th>4</th>\n",
       "      <td>The European Union must contribute towards the...</td>\n",
       "      <td>Pour la présidence française, cette propositio...</td>\n",
       "      <td>FRENCH</td>\n",
       "    </tr>\n",
       "    <tr>\n",
       "      <th>...</th>\n",
       "      <td>...</td>\n",
       "      <td>...</td>\n",
       "      <td>...</td>\n",
       "    </tr>\n",
       "    <tr>\n",
       "      <th>240023</th>\n",
       "      <td>I therefore hope that proposed Amendment No 19...</td>\n",
       "      <td>L'étiquetage permet, grâce à la transparence q...</td>\n",
       "      <td>FRENCH</td>\n",
       "    </tr>\n",
       "    <tr>\n",
       "      <th>240026</th>\n",
       "      <td>According to the Rules of Procedure, you are n...</td>\n",
       "      <td>La formation du personnel intégrant les déléga...</td>\n",
       "      <td>FRENCH</td>\n",
       "    </tr>\n",
       "    <tr>\n",
       "      <th>240027</th>\n",
       "      <td>We can put a figure on both our employment obj...</td>\n",
       "      <td>Esta tendencia se pone igualmente de manifiest...</td>\n",
       "      <td>SPANISH</td>\n",
       "    </tr>\n",
       "    <tr>\n",
       "      <th>240028</th>\n",
       "      <td>In France, 95% of elected representatives are ...</td>\n",
       "      <td>Là-bas, le détachement chargé de rendre les ho...</td>\n",
       "      <td>FRENCH</td>\n",
       "    </tr>\n",
       "    <tr>\n",
       "      <th>240030</th>\n",
       "      <td>What common interests is it supposed to defend?</td>\n",
       "      <td>Et avec la nouvelle politique, un Parlement eu...</td>\n",
       "      <td>FRENCH</td>\n",
       "    </tr>\n",
       "  </tbody>\n",
       "</table>\n",
       "<p>160000 rows × 3 columns</p>\n",
       "</div>"
      ],
      "text/plain": [
       "                                                   source  \\\n",
       "0       Whilst those of a left-wing persuasion define ...   \n",
       "1       In the interinstitutional agreement on the fin...   \n",
       "2       A great deal of funding has been freed up for ...   \n",
       "3       We must all do this together, at all levels of...   \n",
       "4       The European Union must contribute towards the...   \n",
       "...                                                   ...   \n",
       "240023  I therefore hope that proposed Amendment No 19...   \n",
       "240026  According to the Rules of Procedure, you are n...   \n",
       "240027  We can put a figure on both our employment obj...   \n",
       "240028  In France, 95% of elected representatives are ...   \n",
       "240030    What common interests is it supposed to defend?   \n",
       "\n",
       "                                                   target   labels  \n",
       "0       Nous avons donc besoin de ces mesures et le ca...   FRENCH  \n",
       "1       . (EN) Actualmente, la Comisión está aplicando...  SPANISH  \n",
       "2       Pero aunque se reservan el poder de decidir no...  SPANISH  \n",
       "3       Yo también tengo en mi poder una versión más l...  SPANISH  \n",
       "4       Pour la présidence française, cette propositio...   FRENCH  \n",
       "...                                                   ...      ...  \n",
       "240023  L'étiquetage permet, grâce à la transparence q...   FRENCH  \n",
       "240026  La formation du personnel intégrant les déléga...   FRENCH  \n",
       "240027  Esta tendencia se pone igualmente de manifiest...  SPANISH  \n",
       "240028  Là-bas, le détachement chargé de rendre les ho...   FRENCH  \n",
       "240030  Et avec la nouvelle politique, un Parlement eu...   FRENCH  \n",
       "\n",
       "[160000 rows x 3 columns]"
      ]
     },
     "execution_count": 12,
     "metadata": {},
     "output_type": "execute_result"
    }
   ],
   "source": [
    "train_data"
   ]
  },
  {
   "cell_type": "code",
   "execution_count": 13,
   "id": "premier-romantic",
   "metadata": {
    "execution": {
     "iopub.execute_input": "2021-04-27T09:26:53.147311Z",
     "iopub.status.busy": "2021-04-27T09:26:53.146527Z",
     "iopub.status.idle": "2021-04-27T09:28:42.546732Z",
     "shell.execute_reply": "2021-04-27T09:28:42.546108Z"
    },
    "id": "CX0muXAXBV3v",
    "outputId": "bdfdd25b-a72a-444f-8097-1fcb1e516673",
    "papermill": {
     "duration": 109.449828,
     "end_time": "2021-04-27T09:28:42.546899",
     "exception": false,
     "start_time": "2021-04-27T09:26:53.097071",
     "status": "completed"
    },
    "tags": []
   },
   "outputs": [
    {
     "name": "stderr",
     "output_type": "stream",
     "text": [
      "/opt/conda/lib/python3.7/site-packages/ipykernel_launcher.py:28: SettingWithCopyWarning: \n",
      "A value is trying to be set on a copy of a slice from a DataFrame.\n",
      "Try using .loc[row_indexer,col_indexer] = value instead\n",
      "\n",
      "See the caveats in the documentation: https://pandas.pydata.org/pandas-docs/stable/user_guide/indexing.html#returning-a-view-versus-a-copy\n"
     ]
    },
    {
     "name": "stderr",
     "output_type": "stream",
     "text": [
      "/opt/conda/lib/python3.7/site-packages/ipykernel_launcher.py:29: SettingWithCopyWarning: \n",
      "A value is trying to be set on a copy of a slice from a DataFrame.\n",
      "Try using .loc[row_indexer,col_indexer] = value instead\n",
      "\n",
      "See the caveats in the documentation: https://pandas.pydata.org/pandas-docs/stable/user_guide/indexing.html#returning-a-view-versus-a-copy\n",
      "/opt/conda/lib/python3.7/site-packages/ipykernel_launcher.py:32: SettingWithCopyWarning: \n",
      "A value is trying to be set on a copy of a slice from a DataFrame.\n",
      "Try using .loc[row_indexer,col_indexer] = value instead\n",
      "\n",
      "See the caveats in the documentation: https://pandas.pydata.org/pandas-docs/stable/user_guide/indexing.html#returning-a-view-versus-a-copy\n",
      "/opt/conda/lib/python3.7/site-packages/ipykernel_launcher.py:33: SettingWithCopyWarning: \n",
      "A value is trying to be set on a copy of a slice from a DataFrame.\n",
      "Try using .loc[row_indexer,col_indexer] = value instead\n",
      "\n",
      "See the caveats in the documentation: https://pandas.pydata.org/pandas-docs/stable/user_guide/indexing.html#returning-a-view-versus-a-copy\n"
     ]
    },
    {
     "data": {
      "text/html": [
       "<div>\n",
       "<style scoped>\n",
       "    .dataframe tbody tr th:only-of-type {\n",
       "        vertical-align: middle;\n",
       "    }\n",
       "\n",
       "    .dataframe tbody tr th {\n",
       "        vertical-align: top;\n",
       "    }\n",
       "\n",
       "    .dataframe thead th {\n",
       "        text-align: right;\n",
       "    }\n",
       "</style>\n",
       "<table border=\"1\" class=\"dataframe\">\n",
       "  <thead>\n",
       "    <tr style=\"text-align: right;\">\n",
       "      <th></th>\n",
       "      <th>source</th>\n",
       "      <th>target</th>\n",
       "      <th>labels</th>\n",
       "      <th>src_token_indices</th>\n",
       "      <th>tgt_token_indices</th>\n",
       "      <th>len_of_src</th>\n",
       "      <th>len_of_tgt</th>\n",
       "    </tr>\n",
       "  </thead>\n",
       "  <tbody>\n",
       "    <tr>\n",
       "      <th>0</th>\n",
       "      <td>Whilst those of a left-wing persuasion define ...</td>\n",
       "      <td>Nous avons donc besoin de ces mesures et le ca...</td>\n",
       "      <td>FRENCH</td>\n",
       "      <td>[1, 4, 5, 6, 7, 8, 9, 10, 11, 12, 13, 7, 14, 1...</td>\n",
       "      <td>[1, 4, 5, 6, 7, 8, 9, 10, 11, 12, 13, 14, 15, ...</td>\n",
       "      <td>47</td>\n",
       "      <td>56</td>\n",
       "    </tr>\n",
       "    <tr>\n",
       "      <th>1</th>\n",
       "      <td>In the interinstitutional agreement on the fin...</td>\n",
       "      <td>. (EN) Actualmente, la Comisión está aplicando...</td>\n",
       "      <td>SPANISH</td>\n",
       "      <td>[1, 29, 25, 41, 42, 43, 25, 44, 45, 46, 37, 47...</td>\n",
       "      <td>[1, 52, 53, 45, 54, 55, 56, 57, 58, 59, 60, 61...</td>\n",
       "      <td>57</td>\n",
       "      <td>30</td>\n",
       "    </tr>\n",
       "    <tr>\n",
       "      <th>2</th>\n",
       "      <td>A great deal of funding has been freed up for ...</td>\n",
       "      <td>Pero aunque se reservan el poder de decidir no...</td>\n",
       "      <td>SPANISH</td>\n",
       "      <td>[1, 7, 65, 66, 6, 67, 68, 69, 70, 71, 72, 73, ...</td>\n",
       "      <td>[1, 74, 75, 76, 77, 69, 78, 8, 79, 80, 81, 82,...</td>\n",
       "      <td>31</td>\n",
       "      <td>20</td>\n",
       "    </tr>\n",
       "    <tr>\n",
       "      <th>3</th>\n",
       "      <td>We must all do this together, at all levels of...</td>\n",
       "      <td>Yo también tengo en mi poder una versión más l...</td>\n",
       "      <td>SPANISH</td>\n",
       "      <td>[1, 80, 87, 88, 89, 90, 91, 13, 88, 92, 6, 25,...</td>\n",
       "      <td>[1, 88, 89, 90, 52, 91, 78, 92, 93, 94, 95, 8,...</td>\n",
       "      <td>15</td>\n",
       "      <td>24</td>\n",
       "    </tr>\n",
       "    <tr>\n",
       "      <th>4</th>\n",
       "      <td>The European Union must contribute towards the...</td>\n",
       "      <td>Pour la présidence française, cette propositio...</td>\n",
       "      <td>FRENCH</td>\n",
       "      <td>[1, 25, 93, 94, 87, 95, 96, 25, 97, 98, 6, 25,...</td>\n",
       "      <td>[1, 29, 45, 103, 104, 105, 106, 107, 108, 109,...</td>\n",
       "      <td>39</td>\n",
       "      <td>19</td>\n",
       "    </tr>\n",
       "    <tr>\n",
       "      <th>...</th>\n",
       "      <td>...</td>\n",
       "      <td>...</td>\n",
       "      <td>...</td>\n",
       "      <td>...</td>\n",
       "      <td>...</td>\n",
       "      <td>...</td>\n",
       "      <td>...</td>\n",
       "    </tr>\n",
       "    <tr>\n",
       "      <th>240023</th>\n",
       "      <td>I therefore hope that proposed Amendment No 19...</td>\n",
       "      <td>L'étiquetage permet, grâce à la transparence q...</td>\n",
       "      <td>FRENCH</td>\n",
       "      <td>[1, 140, 365, 1089, 109, 308, 307, 206, 9459, ...</td>\n",
       "      <td>[1, 5678, 3019, 121, 296, 45, 3024, 635, 28573...</td>\n",
       "      <td>22</td>\n",
       "      <td>34</td>\n",
       "    </tr>\n",
       "    <tr>\n",
       "      <th>240026</th>\n",
       "      <td>According to the Rules of Procedure, you are n...</td>\n",
       "      <td>La formation du personnel intégrant les déléga...</td>\n",
       "      <td>FRENCH</td>\n",
       "      <td>[1, 1156, 53, 25, 752, 6, 432, 545, 32, 137, 1...</td>\n",
       "      <td>[1, 45, 2072, 124, 549, 527, 214, 16630, 47, 2...</td>\n",
       "      <td>14</td>\n",
       "      <td>17</td>\n",
       "    </tr>\n",
       "    <tr>\n",
       "      <th>240027</th>\n",
       "      <td>We can put a figure on both our employment obj...</td>\n",
       "      <td>Esta tendencia se pone igualmente de manifiest...</td>\n",
       "      <td>SPANISH</td>\n",
       "      <td>[1, 80, 111, 708, 7, 1344, 43, 995, 458, 1673,...</td>\n",
       "      <td>[1, 167, 3823, 76, 6418, 10781, 8, 4043, 52, 4...</td>\n",
       "      <td>33</td>\n",
       "      <td>42</td>\n",
       "    </tr>\n",
       "    <tr>\n",
       "      <th>240028</th>\n",
       "      <td>In France, 95% of elected representatives are ...</td>\n",
       "      <td>Là-bas, le détachement chargé de rendre les ho...</td>\n",
       "      <td>FRENCH</td>\n",
       "      <td>[1, 29, 2283, 6048, 6, 1268, 2345, 32, 6420, 1...</td>\n",
       "      <td>[1, 20675, 12, 26104, 3534, 8, 2709, 214, 5501...</td>\n",
       "      <td>11</td>\n",
       "      <td>28</td>\n",
       "    </tr>\n",
       "    <tr>\n",
       "      <th>240030</th>\n",
       "      <td>What common interests is it supposed to defend?</td>\n",
       "      <td>Et avec la nouvelle politique, un Parlement eu...</td>\n",
       "      <td>FRENCH</td>\n",
       "      <td>[1, 238, 294, 696, 196, 23, 8092, 53, 5333, 2]</td>\n",
       "      <td>[1, 11, 440, 45, 2544, 217, 23, 427, 770, 9242...</td>\n",
       "      <td>10</td>\n",
       "      <td>23</td>\n",
       "    </tr>\n",
       "  </tbody>\n",
       "</table>\n",
       "<p>160000 rows × 7 columns</p>\n",
       "</div>"
      ],
      "text/plain": [
       "                                                   source  \\\n",
       "0       Whilst those of a left-wing persuasion define ...   \n",
       "1       In the interinstitutional agreement on the fin...   \n",
       "2       A great deal of funding has been freed up for ...   \n",
       "3       We must all do this together, at all levels of...   \n",
       "4       The European Union must contribute towards the...   \n",
       "...                                                   ...   \n",
       "240023  I therefore hope that proposed Amendment No 19...   \n",
       "240026  According to the Rules of Procedure, you are n...   \n",
       "240027  We can put a figure on both our employment obj...   \n",
       "240028  In France, 95% of elected representatives are ...   \n",
       "240030    What common interests is it supposed to defend?   \n",
       "\n",
       "                                                   target   labels  \\\n",
       "0       Nous avons donc besoin de ces mesures et le ca...   FRENCH   \n",
       "1       . (EN) Actualmente, la Comisión está aplicando...  SPANISH   \n",
       "2       Pero aunque se reservan el poder de decidir no...  SPANISH   \n",
       "3       Yo también tengo en mi poder una versión más l...  SPANISH   \n",
       "4       Pour la présidence française, cette propositio...   FRENCH   \n",
       "...                                                   ...      ...   \n",
       "240023  L'étiquetage permet, grâce à la transparence q...   FRENCH   \n",
       "240026  La formation du personnel intégrant les déléga...   FRENCH   \n",
       "240027  Esta tendencia se pone igualmente de manifiest...  SPANISH   \n",
       "240028  Là-bas, le détachement chargé de rendre les ho...   FRENCH   \n",
       "240030  Et avec la nouvelle politique, un Parlement eu...   FRENCH   \n",
       "\n",
       "                                        src_token_indices  \\\n",
       "0       [1, 4, 5, 6, 7, 8, 9, 10, 11, 12, 13, 7, 14, 1...   \n",
       "1       [1, 29, 25, 41, 42, 43, 25, 44, 45, 46, 37, 47...   \n",
       "2       [1, 7, 65, 66, 6, 67, 68, 69, 70, 71, 72, 73, ...   \n",
       "3       [1, 80, 87, 88, 89, 90, 91, 13, 88, 92, 6, 25,...   \n",
       "4       [1, 25, 93, 94, 87, 95, 96, 25, 97, 98, 6, 25,...   \n",
       "...                                                   ...   \n",
       "240023  [1, 140, 365, 1089, 109, 308, 307, 206, 9459, ...   \n",
       "240026  [1, 1156, 53, 25, 752, 6, 432, 545, 32, 137, 1...   \n",
       "240027  [1, 80, 111, 708, 7, 1344, 43, 995, 458, 1673,...   \n",
       "240028  [1, 29, 2283, 6048, 6, 1268, 2345, 32, 6420, 1...   \n",
       "240030     [1, 238, 294, 696, 196, 23, 8092, 53, 5333, 2]   \n",
       "\n",
       "                                        tgt_token_indices  len_of_src  \\\n",
       "0       [1, 4, 5, 6, 7, 8, 9, 10, 11, 12, 13, 14, 15, ...          47   \n",
       "1       [1, 52, 53, 45, 54, 55, 56, 57, 58, 59, 60, 61...          57   \n",
       "2       [1, 74, 75, 76, 77, 69, 78, 8, 79, 80, 81, 82,...          31   \n",
       "3       [1, 88, 89, 90, 52, 91, 78, 92, 93, 94, 95, 8,...          15   \n",
       "4       [1, 29, 45, 103, 104, 105, 106, 107, 108, 109,...          39   \n",
       "...                                                   ...         ...   \n",
       "240023  [1, 5678, 3019, 121, 296, 45, 3024, 635, 28573...          22   \n",
       "240026  [1, 45, 2072, 124, 549, 527, 214, 16630, 47, 2...          14   \n",
       "240027  [1, 167, 3823, 76, 6418, 10781, 8, 4043, 52, 4...          33   \n",
       "240028  [1, 20675, 12, 26104, 3534, 8, 2709, 214, 5501...          11   \n",
       "240030  [1, 11, 440, 45, 2544, 217, 23, 427, 770, 9242...          10   \n",
       "\n",
       "        len_of_tgt  \n",
       "0               56  \n",
       "1               30  \n",
       "2               20  \n",
       "3               24  \n",
       "4               19  \n",
       "...            ...  \n",
       "240023          34  \n",
       "240026          17  \n",
       "240027          42  \n",
       "240028          28  \n",
       "240030          23  \n",
       "\n",
       "[160000 rows x 7 columns]"
      ]
     },
     "execution_count": 13,
     "metadata": {},
     "output_type": "execute_result"
    }
   ],
   "source": [
    "token_columns = {\"src_token_indices\":[], \"label_token_indices\":[],\"tgt_token_indices\":[]}\n",
    "\n",
    "src_field = Vocab()\n",
    "tgt_field = Vocab()\n",
    "for i in range(len(train_data)):\n",
    "   \n",
    "   temp_src = train_data['source'].iloc[i]\n",
    "   temp_tgt = train_data['target'].iloc[i]\n",
    "   temp_label = train_data['labels'].iloc[i]\n",
    "\n",
    "   #tokenisation\n",
    "   src_tokens = tgt_tokenizer(temp_label, temp_src)\n",
    "   tgt_tokens = tgt_tokenizer(temp_label, temp_tgt)\n",
    "\n",
    "   #add to vocab\n",
    "   src_field.add_to_vocab(src_tokens)\n",
    "   tgt_field.add_to_vocab(tgt_tokens)\n",
    "\n",
    "   #convert tokens to indices and add <sos> at the beginning ang <eos> at the end\n",
    "   src_indices = [src_field.word2index['<sos>']] + [src_field.word2index[token] if token in src_field.word2index else src_field.word2index[\"<unk>\"] for token in src_tokens] + [src_field.word2index['<eos>']]\n",
    "   tgt_indices = [tgt_field.word2index['<sos>']] + [tgt_field.word2index[token] if token in tgt_field.word2index else tgt_field.word2index[\"<unk>\"] for token in tgt_tokens] + [tgt_field.word2index['<eos>']]\n",
    "   \n",
    "   #add to dictionary\n",
    "   token_columns[\"src_token_indices\"].append(src_indices)\n",
    "   token_columns[\"tgt_token_indices\"].append(tgt_indices)\n",
    "\n",
    "\n",
    "train_data[\"src_token_indices\"] =  token_columns[\"src_token_indices\"]\n",
    "train_data[\"tgt_token_indices\"] =  token_columns[\"tgt_token_indices\"]\n",
    "\n",
    "#calculate the no of tokens in src\n",
    "train_data[\"len_of_src\"] = train_data[\"src_token_indices\"].apply(len)\n",
    "train_data[\"len_of_tgt\"] = train_data[\"tgt_token_indices\"].apply(len)\n",
    "train_data"
   ]
  },
  {
   "cell_type": "code",
   "execution_count": 14,
   "id": "arctic-donor",
   "metadata": {
    "execution": {
     "iopub.execute_input": "2021-04-27T09:28:42.603906Z",
     "iopub.status.busy": "2021-04-27T09:28:42.603209Z",
     "iopub.status.idle": "2021-04-27T09:28:42.682481Z",
     "shell.execute_reply": "2021-04-27T09:28:42.681990Z"
    },
    "id": "gy3K3tKi0mts",
    "papermill": {
     "duration": 0.108266,
     "end_time": "2021-04-27T09:28:42.682611",
     "exception": false,
     "start_time": "2021-04-27T09:28:42.574345",
     "status": "completed"
    },
    "tags": []
   },
   "outputs": [],
   "source": [
    "# save Vocab object\n",
    "with open('src_field.pkl','wb') as pkl:\n",
    "    pickle.dump(src_field, pkl)\n",
    "\n",
    "with open('tgt_field.pkl','wb') as pkl:\n",
    "    pickle.dump(tgt_field, pkl)"
   ]
  },
  {
   "cell_type": "code",
   "execution_count": 15,
   "id": "regulated-mistress",
   "metadata": {
    "execution": {
     "iopub.execute_input": "2021-04-27T09:28:42.736917Z",
     "iopub.status.busy": "2021-04-27T09:28:42.736188Z",
     "iopub.status.idle": "2021-04-27T09:28:42.738436Z",
     "shell.execute_reply": "2021-04-27T09:28:42.738877Z"
    },
    "papermill": {
     "duration": 0.030955,
     "end_time": "2021-04-27T09:28:42.739016",
     "exception": false,
     "start_time": "2021-04-27T09:28:42.708061",
     "status": "completed"
    },
    "tags": []
   },
   "outputs": [],
   "source": [
    "# load Vocab object\n",
    "# with open('../input/notebook0bb169eae2/src_field.pkl','rb') as pkl:\n",
    "#     src_field = pickle.load(pkl)\n",
    "\n",
    "# with open('../input/notebook0bb169eae2/tgt_field.pkl','rb') as pkl:\n",
    "#     tgt_field = pickle.load(pkl)"
   ]
  },
  {
   "cell_type": "code",
   "execution_count": 16,
   "id": "environmental-dressing",
   "metadata": {
    "execution": {
     "iopub.execute_input": "2021-04-27T09:28:42.832567Z",
     "iopub.status.busy": "2021-04-27T09:28:42.812463Z",
     "iopub.status.idle": "2021-04-27T09:28:42.834667Z",
     "shell.execute_reply": "2021-04-27T09:28:42.835092Z"
    },
    "id": "-nvH3vvnl5bK",
    "papermill": {
     "duration": 0.070923,
     "end_time": "2021-04-27T09:28:42.835219",
     "exception": false,
     "start_time": "2021-04-27T09:28:42.764296",
     "status": "completed"
    },
    "tags": []
   },
   "outputs": [],
   "source": [
    "max_src_len = max(train_data[\"len_of_src\"])\n",
    "max_tgt_len = max(train_data[\"len_of_tgt\"])"
   ]
  },
  {
   "cell_type": "code",
   "execution_count": 17,
   "id": "presidential-maine",
   "metadata": {
    "execution": {
     "iopub.execute_input": "2021-04-27T09:28:42.890200Z",
     "iopub.status.busy": "2021-04-27T09:28:42.889480Z",
     "iopub.status.idle": "2021-04-27T09:28:42.891849Z",
     "shell.execute_reply": "2021-04-27T09:28:42.892284Z"
    },
    "id": "7JaNdDGmueTO",
    "papermill": {
     "duration": 0.031885,
     "end_time": "2021-04-27T09:28:42.892405",
     "exception": false,
     "start_time": "2021-04-27T09:28:42.860520",
     "status": "completed"
    },
    "tags": []
   },
   "outputs": [],
   "source": [
    "def add_padding(token_list,length,field):\n",
    "    while len(token_list)<length:\n",
    "       token_list.append(field.word2index[\"<pad>\"])\n",
    "    return token_list"
   ]
  },
  {
   "cell_type": "code",
   "execution_count": 18,
   "id": "logical-shadow",
   "metadata": {
    "execution": {
     "iopub.execute_input": "2021-04-27T09:28:42.951923Z",
     "iopub.status.busy": "2021-04-27T09:28:42.951215Z",
     "iopub.status.idle": "2021-04-27T09:29:21.437806Z",
     "shell.execute_reply": "2021-04-27T09:29:21.438265Z"
    },
    "id": "eiHaeaSOvCHY",
    "papermill": {
     "duration": 38.51921,
     "end_time": "2021-04-27T09:29:21.438409",
     "exception": false,
     "start_time": "2021-04-27T09:28:42.919199",
     "status": "completed"
    },
    "tags": []
   },
   "outputs": [
    {
     "name": "stderr",
     "output_type": "stream",
     "text": [
      "/opt/conda/lib/python3.7/site-packages/ipykernel_launcher.py:1: SettingWithCopyWarning: \n",
      "A value is trying to be set on a copy of a slice from a DataFrame.\n",
      "Try using .loc[row_indexer,col_indexer] = value instead\n",
      "\n",
      "See the caveats in the documentation: https://pandas.pydata.org/pandas-docs/stable/user_guide/indexing.html#returning-a-view-versus-a-copy\n",
      "  \"\"\"Entry point for launching an IPython kernel.\n"
     ]
    },
    {
     "name": "stderr",
     "output_type": "stream",
     "text": [
      "/opt/conda/lib/python3.7/site-packages/ipykernel_launcher.py:2: SettingWithCopyWarning: \n",
      "A value is trying to be set on a copy of a slice from a DataFrame.\n",
      "Try using .loc[row_indexer,col_indexer] = value instead\n",
      "\n",
      "See the caveats in the documentation: https://pandas.pydata.org/pandas-docs/stable/user_guide/indexing.html#returning-a-view-versus-a-copy\n",
      "  \n"
     ]
    }
   ],
   "source": [
    "train_data[\"src_token_indices\"] = train_data[\"src_token_indices\"].apply(add_padding, args=(max_src_len,src_field)) \n",
    "train_data[\"tgt_token_indices\"] = train_data[\"tgt_token_indices\"].apply(add_padding, args=(max_tgt_len,tgt_field)) "
   ]
  },
  {
   "cell_type": "code",
   "execution_count": 19,
   "id": "sixth-revelation",
   "metadata": {
    "execution": {
     "iopub.execute_input": "2021-04-27T09:29:21.548888Z",
     "iopub.status.busy": "2021-04-27T09:29:21.538559Z",
     "iopub.status.idle": "2021-04-27T09:29:57.129943Z",
     "shell.execute_reply": "2021-04-27T09:29:57.129423Z"
    },
    "id": "cx3DOQRUvnPo",
    "papermill": {
     "duration": 35.664879,
     "end_time": "2021-04-27T09:29:57.130122",
     "exception": false,
     "start_time": "2021-04-27T09:29:21.465243",
     "status": "completed"
    },
    "tags": []
   },
   "outputs": [],
   "source": [
    "train_src = np.vstack(list(train_data[\"src_token_indices\"]))\n",
    "train_tgt = np.vstack(list(train_data[\"tgt_token_indices\"]))"
   ]
  },
  {
   "cell_type": "code",
   "execution_count": 20,
   "id": "architectural-perry",
   "metadata": {
    "execution": {
     "iopub.execute_input": "2021-04-27T09:29:57.195805Z",
     "iopub.status.busy": "2021-04-27T09:29:57.195095Z",
     "iopub.status.idle": "2021-04-27T09:29:57.250136Z",
     "shell.execute_reply": "2021-04-27T09:29:57.249672Z"
    },
    "id": "w4mXOmqs3S9k",
    "papermill": {
     "duration": 0.092773,
     "end_time": "2021-04-27T09:29:57.250256",
     "exception": false,
     "start_time": "2021-04-27T09:29:57.157483",
     "status": "completed"
    },
    "tags": []
   },
   "outputs": [],
   "source": [
    "classes = ['FRENCH', 'SPANISH']\n",
    "onehot_encoder = OneHotEncoder(categories=[classes])\n",
    "train_labels = onehot_encoder.fit_transform(np.array(train_data['labels']).reshape(-1, 1)).toarray()"
   ]
  },
  {
   "cell_type": "code",
   "execution_count": 21,
   "id": "bigger-sailing",
   "metadata": {
    "execution": {
     "iopub.execute_input": "2021-04-27T09:29:57.308505Z",
     "iopub.status.busy": "2021-04-27T09:29:57.307813Z",
     "iopub.status.idle": "2021-04-27T09:29:57.310854Z",
     "shell.execute_reply": "2021-04-27T09:29:57.311246Z"
    },
    "id": "76qFuDZ3mQUH",
    "outputId": "7199ae98-aaae-4dcf-86b0-6ece101f4b77",
    "papermill": {
     "duration": 0.034213,
     "end_time": "2021-04-27T09:29:57.311379",
     "exception": false,
     "start_time": "2021-04-27T09:29:57.277166",
     "status": "completed"
    },
    "tags": []
   },
   "outputs": [
    {
     "data": {
      "text/plain": [
       "(160000, 259)"
      ]
     },
     "execution_count": 21,
     "metadata": {},
     "output_type": "execute_result"
    }
   ],
   "source": [
    "train_src.shape"
   ]
  },
  {
   "cell_type": "code",
   "execution_count": 22,
   "id": "defined-western",
   "metadata": {
    "execution": {
     "iopub.execute_input": "2021-04-27T09:29:57.370393Z",
     "iopub.status.busy": "2021-04-27T09:29:57.369741Z",
     "iopub.status.idle": "2021-04-27T09:29:57.373296Z",
     "shell.execute_reply": "2021-04-27T09:29:57.372854Z"
    },
    "id": "yK-MWk8_7_09",
    "papermill": {
     "duration": 0.035084,
     "end_time": "2021-04-27T09:29:57.373411",
     "exception": false,
     "start_time": "2021-04-27T09:29:57.338327",
     "status": "completed"
    },
    "tags": []
   },
   "outputs": [],
   "source": [
    "### Need to Edit!\n",
    "\n",
    "## Hyperparameters\n",
    "d_model = 256\n",
    "src_pad_idx = src_field.word2index[\"<pad>\"]\n",
    "nhead = 4\n",
    "src_vocab_size = src_field.vocab_size\n",
    "tgt_vocab_size = tgt_field.vocab_size\n",
    "num_encoder_layers = 2\n",
    "num_decoder_layers = 2\n",
    "\n",
    "dim_feedforward = 512\n",
    "dropout = 0.2\n",
    "\n",
    "n_cond_label = len(classes)\n",
    "\n",
    "lr = 0.001\n",
    "batch_size = 2\n",
    "epochs = 20"
   ]
  },
  {
   "cell_type": "code",
   "execution_count": 23,
   "id": "sustainable-avenue",
   "metadata": {
    "execution": {
     "iopub.execute_input": "2021-04-27T09:29:57.435367Z",
     "iopub.status.busy": "2021-04-27T09:29:57.434499Z",
     "iopub.status.idle": "2021-04-27T09:29:57.436628Z",
     "shell.execute_reply": "2021-04-27T09:29:57.437084Z"
    },
    "id": "uZ1BjQFqvh7v",
    "papermill": {
     "duration": 0.036578,
     "end_time": "2021-04-27T09:29:57.437221",
     "exception": false,
     "start_time": "2021-04-27T09:29:57.400643",
     "status": "completed"
    },
    "tags": []
   },
   "outputs": [],
   "source": [
    "class Dataset(torch.utils.data.Dataset):\n",
    "  def __init__(self, src, tgt, labels):\n",
    "    self.src = src\n",
    "    self.tgt = tgt\n",
    "    self.labels = labels\n",
    "\n",
    "  def __len__(self):\n",
    "    return self.src.shape[0]\n",
    "  \n",
    "  def __getitem__(self, index):\n",
    "    return self.src[index], self.tgt[index], self.labels[index]"
   ]
  },
  {
   "cell_type": "code",
   "execution_count": 24,
   "id": "brave-lincoln",
   "metadata": {
    "execution": {
     "iopub.execute_input": "2021-04-27T09:29:57.497548Z",
     "iopub.status.busy": "2021-04-27T09:29:57.496723Z",
     "iopub.status.idle": "2021-04-27T09:29:57.498875Z",
     "shell.execute_reply": "2021-04-27T09:29:57.499263Z"
    },
    "id": "jgzW63X8vh4d",
    "papermill": {
     "duration": 0.034439,
     "end_time": "2021-04-27T09:29:57.499402",
     "exception": false,
     "start_time": "2021-04-27T09:29:57.464963",
     "status": "completed"
    },
    "tags": []
   },
   "outputs": [],
   "source": [
    "train_dataset = Dataset(train_src, train_tgt, train_labels)\n",
    "train_loader = torch.utils.data.DataLoader(dataset=train_dataset, batch_size=batch_size, shuffle=True)"
   ]
  },
  {
   "cell_type": "code",
   "execution_count": 25,
   "id": "varying-rapid",
   "metadata": {
    "execution": {
     "iopub.execute_input": "2021-04-27T09:29:57.560213Z",
     "iopub.status.busy": "2021-04-27T09:29:57.559377Z",
     "iopub.status.idle": "2021-04-27T09:29:57.561927Z",
     "shell.execute_reply": "2021-04-27T09:29:57.561529Z"
    },
    "id": "oVEkZdEGe2bZ",
    "papermill": {
     "duration": 0.03518,
     "end_time": "2021-04-27T09:29:57.562054",
     "exception": false,
     "start_time": "2021-04-27T09:29:57.526874",
     "status": "completed"
    },
    "tags": []
   },
   "outputs": [],
   "source": [
    "# latent: [batch, emb_dim, d_model]\n",
    "# label : [batch, no_of_labels]\n",
    "# new_latent: [batch, emb_dim, d_model+no_of_labels]\n",
    "\n",
    "def latent_space_concat(latent, label):\n",
    "  new_label = label.unsqueeze(2).transpose(1, 2)\n",
    "  new_label = new_label.expand(-1, latent.size(1), -1)\n",
    "  new_latent = torch.cat((latent, new_label), dim=2)\n",
    "  return new_latent"
   ]
  },
  {
   "cell_type": "code",
   "execution_count": 26,
   "id": "humanitarian-growing",
   "metadata": {
    "execution": {
     "iopub.execute_input": "2021-04-27T09:29:57.621609Z",
     "iopub.status.busy": "2021-04-27T09:29:57.621114Z",
     "iopub.status.idle": "2021-04-27T09:29:57.665238Z",
     "shell.execute_reply": "2021-04-27T09:29:57.665599Z"
    },
    "id": "0npTntO3iRL4",
    "outputId": "c555765a-013c-4277-f887-8cb1fb8e1255",
    "papermill": {
     "duration": 0.075841,
     "end_time": "2021-04-27T09:29:57.665723",
     "exception": false,
     "start_time": "2021-04-27T09:29:57.589882",
     "status": "completed"
    },
    "tags": []
   },
   "outputs": [
    {
     "name": "stdout",
     "output_type": "stream",
     "text": [
      "a::: tensor([[[ 0,  1,  2,  3],\n",
      "         [ 4,  5,  6,  7],\n",
      "         [ 8,  9, 10, 11]],\n",
      "\n",
      "        [[12, 13, 14, 15],\n",
      "         [16, 17, 18, 19],\n",
      "         [20, 21, 22, 23]]])\n",
      "b::: tensor([[0, 1, 2],\n",
      "        [3, 4, 5]])\n",
      "c::: tensor([[[ 0,  1,  2,  3,  0,  1,  2],\n",
      "         [ 4,  5,  6,  7,  0,  1,  2],\n",
      "         [ 8,  9, 10, 11,  0,  1,  2]],\n",
      "\n",
      "        [[12, 13, 14, 15,  3,  4,  5],\n",
      "         [16, 17, 18, 19,  3,  4,  5],\n",
      "         [20, 21, 22, 23,  3,  4,  5]]])\n",
      "torch.Size([2, 3, 4]) torch.Size([2, 3]) torch.Size([2, 3, 7])\n"
     ]
    }
   ],
   "source": [
    "# example\n",
    "\n",
    "a = torch.arange(2*3*4).reshape(2, 3, 4)\n",
    "b = torch.arange(6).reshape(-1, 3)\n",
    "c = latent_space_concat(a, b)\n",
    "\n",
    "print(\"a:::\",a)\n",
    "print(\"b:::\",b)\n",
    "print(\"c:::\",c)\n",
    "print(a.shape, b.shape, c.shape)"
   ]
  },
  {
   "cell_type": "code",
   "execution_count": 27,
   "id": "sunrise-europe",
   "metadata": {
    "execution": {
     "iopub.execute_input": "2021-04-27T09:29:57.729616Z",
     "iopub.status.busy": "2021-04-27T09:29:57.728831Z",
     "iopub.status.idle": "2021-04-27T09:29:57.736841Z",
     "shell.execute_reply": "2021-04-27T09:29:57.737347Z"
    },
    "id": "jXw3b0_LSUKx",
    "papermill": {
     "duration": 0.043896,
     "end_time": "2021-04-27T09:29:57.737470",
     "exception": false,
     "start_time": "2021-04-27T09:29:57.693574",
     "status": "completed"
    },
    "tags": []
   },
   "outputs": [],
   "source": [
    "'''\n",
    "__init__() params:\n",
    "  d_model             : feature dimension\n",
    "  nhead               : number of heads in multiheadattention\n",
    "  n_cond_label        : number of conditioning labels\n",
    "  num_encoder_layers  : number of encoders\n",
    "  num_decoder_layers  : number of decoders\n",
    "  dim_feedforward     : FNN dimension\n",
    "  dropout             : p value of dropout\n",
    "\n",
    "forward() params:\n",
    "  src                   : sequence to encoder stack\n",
    "  tgt                   : sequence to decoder stack\n",
    "  labels                : conditioning labels\n",
    "  tgt_mask              : mask for tgt sequence\n",
    "  src_key_padding_mask  : mask for src keys per batch\n",
    "'''\n",
    "\n",
    "class ModifiedTransformer(nn.Module):\n",
    "  def __init__(self, d_model = 512, nhead = 8, n_cond_label = 1,\n",
    "                     num_encoder_layers = 6, num_decoder_layers = 6,\n",
    "                     dim_feedforward = 2048, dropout = 0.1):\n",
    "    super(ModifiedTransformer, self).__init__()\n",
    "\n",
    "    self.d_model = d_model\n",
    "\n",
    "    encoder_layer = nn.TransformerEncoderLayer(d_model, nhead, dim_feedforward, dropout, 'relu')\n",
    "    encoder_norm = nn.LayerNorm(d_model)\n",
    "    self.encoder = nn.TransformerEncoder(encoder_layer, num_encoder_layers, encoder_norm)\n",
    "\n",
    "    decoder_layer = nn.TransformerDecoderLayer(d_model, nhead, dim_feedforward, dropout, 'relu')\n",
    "    decoder_norm = nn.LayerNorm(d_model)\n",
    "    self.decoder = nn.TransformerDecoder(decoder_layer, num_decoder_layers, decoder_norm)\n",
    "\n",
    "    self.fnn1 = nn.Linear(d_model + n_cond_label, d_model*2)\n",
    "    self.fnn2 = nn.Linear(d_model*2, d_model)\n",
    "    self._reset_parameters()\n",
    "\n",
    "\n",
    "  def forward(self, src, tgt, labels, tgt_mask = None, src_key_padding_mask = None):\n",
    "    test = \"number of batches in src and tgt must be equal\"\n",
    "    assert src.size(1) == tgt.size(1), test\n",
    "\n",
    "    test = \"number of features in src and tgt, must be equal to d_model\"\n",
    "    assert src.size(2) == self.d_model and tgt.size(2) == self.d_model, test\n",
    "\n",
    "    test = \"number of batches in src and labels must be equal\"\n",
    "    assert src.size(1) == labels.size(1), test\n",
    "\n",
    "    memory = self.encoder(src, src_key_padding_mask=src_key_padding_mask)\n",
    "\n",
    "    new_memory = latent_space_concat(memory.transpose(0, 1), labels.T)\n",
    "    fnn_out = self.fnn1(new_memory)\n",
    "    fnn_out = F.leaky_relu(fnn_out)\n",
    "    fnn_out = self.fnn2(fnn_out)\n",
    "    reduced_memory = F.leaky_relu(fnn_out)\n",
    "\n",
    "    output = self.decoder(tgt, reduced_memory, tgt_mask=tgt_mask)\n",
    "    return output\n",
    "\n",
    "\n",
    "  def generate_square_subsequent_mask(self, sz):\n",
    "    mask = (torch.triu(torch.ones(sz, sz)) == 1).transpose(0, 1)\n",
    "    mask = mask.float().masked_fill(mask == 0, float('-inf')).masked_fill(mask == 1, float(0.0))\n",
    "    return mask\n",
    "\n",
    "\n",
    "  def _reset_parameters(self):\n",
    "    for p in self.parameters():\n",
    "      if p.dim() > 1:\n",
    "        nn.init.xavier_uniform_(p)"
   ]
  },
  {
   "cell_type": "code",
   "execution_count": 28,
   "id": "theoretical-federal",
   "metadata": {
    "execution": {
     "iopub.execute_input": "2021-04-27T09:29:57.799865Z",
     "iopub.status.busy": "2021-04-27T09:29:57.799146Z",
     "iopub.status.idle": "2021-04-27T09:29:57.801863Z",
     "shell.execute_reply": "2021-04-27T09:29:57.801433Z"
    },
    "id": "XpGbkfzGole1",
    "papermill": {
     "duration": 0.036572,
     "end_time": "2021-04-27T09:29:57.802000",
     "exception": false,
     "start_time": "2021-04-27T09:29:57.765428",
     "status": "completed"
    },
    "tags": []
   },
   "outputs": [],
   "source": [
    "def get_PE(max_len, d_model):\n",
    "  position = torch.arange(0, max_len, dtype=torch.float).unsqueeze(1)\n",
    "  div_term = torch.exp(torch.arange(0, d_model, 2).float() * (-math.log(10000.0) / d_model))\n",
    "  pe = torch.empty(max_len, d_model)\n",
    "  pe[:, 0::2] = torch.sin(position * div_term)\n",
    "  pe[:, 1::2] = torch.cos(position * div_term)\n",
    "  pe = pe.unsqueeze(0).transpose(0, 1)\n",
    "  return pe"
   ]
  },
  {
   "cell_type": "code",
   "execution_count": 29,
   "id": "spatial-sailing",
   "metadata": {
    "execution": {
     "iopub.execute_input": "2021-04-27T09:29:57.868380Z",
     "iopub.status.busy": "2021-04-27T09:29:57.867601Z",
     "iopub.status.idle": "2021-04-27T09:29:57.870170Z",
     "shell.execute_reply": "2021-04-27T09:29:57.869760Z"
    },
    "id": "wmkUjuu2kGZ7",
    "papermill": {
     "duration": 0.040322,
     "end_time": "2021-04-27T09:29:57.870278",
     "exception": false,
     "start_time": "2021-04-27T09:29:57.829956",
     "status": "completed"
    },
    "tags": []
   },
   "outputs": [],
   "source": [
    "class Model(nn.Module):\n",
    "  def __init__(self, d_model, src_pad_idx, nhead,\n",
    "               src_vocab_size, tgt_vocab_size, num_encoder_layers, num_decoder_layers,\n",
    "               n_cond_label, max_src_len, max_tgt_len, dim_feedforward, dropout):\n",
    "    super(Model, self).__init__()\n",
    "\n",
    "    self.PE = get_PE(max(max_src_len, max_tgt_len), d_model)\n",
    "    self.src_embedding = nn.Embedding(src_vocab_size, d_model)\n",
    "    self.tgt_embedding = nn.Embedding(tgt_vocab_size, d_model)\n",
    "    \n",
    "    self.transformer = ModifiedTransformer(d_model, nhead, n_cond_label, \n",
    "                                           num_encoder_layers, num_decoder_layers, dim_feedforward, dropout)\n",
    "    self.fnn_out = nn.Linear(d_model, tgt_vocab_size)\n",
    "    self.max_src_len = max_src_len\n",
    "    self.max_tgt_len = max_tgt_len\n",
    "\n",
    "    self.d_model = d_model\n",
    "    self.src_pad_idx = src_pad_idx\n",
    "\n",
    "\n",
    "  def forward(self, src, tgt, labels):\n",
    "    src, tgt, labels = src.T, tgt.T, labels.T\n",
    "    src_seq_len, src_N = src.shape\n",
    "    tgt_seq_len, tgt_N = tgt.shape\n",
    "    label_feature_len, label_N = labels.shape\n",
    "\n",
    "    src_PE = self.PE[:src_seq_len, :].to(src.device)\n",
    "    tgt_PE = self.PE[:tgt_seq_len, :].to(src.device)\n",
    "\n",
    "    emb_src = self.src_embedding(src) + src_PE\n",
    "    emb_tgt = self.tgt_embedding(tgt) + tgt_PE\n",
    "\n",
    "    src_key_padding_mask = (src.transpose(0, 1) == self.src_pad_idx)\n",
    "    tgt_mask = self.transformer.generate_square_subsequent_mask(tgt_seq_len).to(src.device)\n",
    "    tran_out = self.transformer(emb_src, emb_tgt, labels, src_key_padding_mask=src_key_padding_mask, tgt_mask=tgt_mask)\n",
    "    return self.fnn_out(tran_out.transpose(0, 1))"
   ]
  },
  {
   "cell_type": "code",
   "execution_count": 30,
   "id": "directed-shirt",
   "metadata": {
    "execution": {
     "iopub.execute_input": "2021-04-27T09:29:57.930936Z",
     "iopub.status.busy": "2021-04-27T09:29:57.930420Z",
     "iopub.status.idle": "2021-04-27T09:30:02.253851Z",
     "shell.execute_reply": "2021-04-27T09:30:02.254311Z"
    },
    "id": "zngYHFGvkKM7",
    "papermill": {
     "duration": 4.356132,
     "end_time": "2021-04-27T09:30:02.254495",
     "exception": false,
     "start_time": "2021-04-27T09:29:57.898363",
     "status": "completed"
    },
    "tags": []
   },
   "outputs": [],
   "source": [
    "model = Model(d_model, src_pad_idx, nhead, src_vocab_size, tgt_vocab_size, num_encoder_layers, num_decoder_layers,\n",
    "              n_cond_label, max_src_len, max_tgt_len, dim_feedforward, dropout)\n",
    "# model.load_state_dict(torch.load(\"../input/notebook0bb169eae2/model14.pth\"))\n",
    "model = model.to(device)\n",
    "\n",
    "    \n",
    "optimizer = optim.Adam(model.parameters(), lr=lr)\n",
    "criterion = nn.CrossEntropyLoss(ignore_index=src_pad_idx)\n"
   ]
  },
  {
   "cell_type": "code",
   "execution_count": 31,
   "id": "closing-hundred",
   "metadata": {
    "execution": {
     "iopub.execute_input": "2021-04-27T09:30:02.321756Z",
     "iopub.status.busy": "2021-04-27T09:30:02.321097Z"
    },
    "id": "p33o_0zA8P1s",
    "outputId": "705eed64-ba33-4281-de93-913801106b1f",
    "papermill": {
     "duration": null,
     "end_time": null,
     "exception": false,
     "start_time": "2021-04-27T09:30:02.284117",
     "status": "running"
    },
    "tags": []
   },
   "outputs": [
    {
     "name": "stdout",
     "output_type": "stream",
     "text": [
      "0: 7.4302\n"
     ]
    },
    {
     "name": "stdout",
     "output_type": "stream",
     "text": [
      "1: 7.4912\n"
     ]
    },
    {
     "name": "stdout",
     "output_type": "stream",
     "text": [
      "2: 7.5220\n"
     ]
    },
    {
     "name": "stdout",
     "output_type": "stream",
     "text": [
      "3: 7.5342\n"
     ]
    }
   ],
   "source": [
    "for epoch in range(epochs):\n",
    "  losses = np.empty(len(train_loader), dtype=np.float32)\n",
    "  for idx,(src,tgt,labels) in enumerate(train_loader):\n",
    "    optimizer.zero_grad()\n",
    " \n",
    "    src = torch.as_tensor(src, dtype=torch.int64).to(device)\n",
    "    tgt = torch.as_tensor(tgt, dtype=torch.int64).to(device)\n",
    "    labels = torch.as_tensor(labels, dtype=torch.float32).to(device)\n",
    " \n",
    "    predicts = model(src, tgt[:, :-1], labels)\n",
    "    predicts = F.log_softmax(predicts, dim=2)\n",
    "    predicts = predicts.reshape(-1, predicts.shape[2])\n",
    "    loss = criterion(predicts, tgt[:, 1:].reshape(-1))\n",
    "    loss.backward()\n",
    "    losses[idx] = loss.item()\n",
    "    \n",
    "    optimizer.step()\n",
    "    #break\n",
    "  torch.save(model.state_dict(), f'model{epoch}.pth')\n",
    "  print('{}: {:.4f}'.format(epoch, losses.mean()))\n",
    "  #break"
   ]
  },
  {
   "cell_type": "code",
   "execution_count": null,
   "id": "assisted-burns",
   "metadata": {
    "id": "LI_oxpKC8_is",
    "papermill": {
     "duration": null,
     "end_time": null,
     "exception": null,
     "start_time": null,
     "status": "pending"
    },
    "tags": []
   },
   "outputs": [],
   "source": [
    "torch.save(model.state_dict(), 'model.pth')"
   ]
  },
  {
   "cell_type": "code",
   "execution_count": null,
   "id": "recreational-latter",
   "metadata": {
    "papermill": {
     "duration": null,
     "end_time": null,
     "exception": null,
     "start_time": null,
     "status": "pending"
    },
    "tags": []
   },
   "outputs": [],
   "source": []
  },
  {
   "cell_type": "code",
   "execution_count": null,
   "id": "excessive-begin",
   "metadata": {
    "papermill": {
     "duration": null,
     "end_time": null,
     "exception": null,
     "start_time": null,
     "status": "pending"
    },
    "tags": []
   },
   "outputs": [],
   "source": []
  }
 ],
 "metadata": {
  "kernelspec": {
   "display_name": "Python 3",
   "language": "python",
   "name": "python3"
  },
  "language_info": {
   "codemirror_mode": {
    "name": "ipython",
    "version": 3
   },
   "file_extension": ".py",
   "mimetype": "text/x-python",
   "name": "python",
   "nbconvert_exporter": "python",
   "pygments_lexer": "ipython3",
   "version": "3.6.4"
  },
  "papermill": {
   "default_parameters": {},
   "duration": null,
   "end_time": null,
   "environment_variables": {},
   "exception": null,
   "input_path": "__notebook__.ipynb",
   "output_path": "__notebook__.ipynb",
   "parameters": {},
   "start_time": "2021-04-27T09:26:37.073571",
   "version": "2.3.3"
  }
 },
 "nbformat": 4,
 "nbformat_minor": 5
}